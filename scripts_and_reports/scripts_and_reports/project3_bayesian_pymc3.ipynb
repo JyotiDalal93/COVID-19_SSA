{
 "cells": [
  {
   "cell_type": "markdown",
   "metadata": {},
   "source": [
    "Final Analysis for the gender_COVID paper"
   ]
  },
  {
   "cell_type": "code",
   "execution_count": 1,
   "metadata": {},
   "outputs": [
    {
     "name": "stdout",
     "output_type": "stream",
     "text": [
      "Requirement already satisfied: arviz in c:\\users\\jyoti dalal\\anaconda3\\envs\\both_languages\\lib\\site-packages (0.11.2)\n",
      "Requirement already satisfied: numpy>=1.12 in c:\\users\\jyoti dalal\\anaconda3\\envs\\both_languages\\lib\\site-packages (from arviz) (1.19.2)\n",
      "Requirement already satisfied: packaging in c:\\users\\jyoti dalal\\anaconda3\\envs\\both_languages\\lib\\site-packages (from arviz) (20.9)\n",
      "Requirement already satisfied: scipy>=0.19 in c:\\users\\jyoti dalal\\anaconda3\\envs\\both_languages\\lib\\site-packages (from arviz) (1.6.2)\n",
      "Requirement already satisfied: netcdf4 in c:\\users\\jyoti dalal\\anaconda3\\envs\\both_languages\\lib\\site-packages (from arviz) (1.4.2)\n",
      "Requirement already satisfied: setuptools>=38.4 in c:\\users\\jyoti dalal\\anaconda3\\envs\\both_languages\\lib\\site-packages (from arviz) (52.0.0.post20210125)\n",
      "Requirement already satisfied: matplotlib>=3.0 in c:\\users\\jyoti dalal\\anaconda3\\envs\\both_languages\\lib\\site-packages (from arviz) (3.3.4)\n",
      "Requirement already satisfied: pandas>=0.23 in c:\\users\\jyoti dalal\\anaconda3\\envs\\both_languages\\lib\\site-packages (from arviz) (1.2.4)\n",
      "Requirement already satisfied: typing-extensions<4,>=3.7.4.3 in c:\\users\\jyoti dalal\\anaconda3\\envs\\both_languages\\lib\\site-packages (from arviz) (3.7.4.3)\n",
      "Requirement already satisfied: xarray>=0.16.1 in c:\\users\\jyoti dalal\\anaconda3\\envs\\both_languages\\lib\\site-packages (from arviz) (0.17.0)\n",
      "Requirement already satisfied: kiwisolver>=1.0.1 in c:\\users\\jyoti dalal\\anaconda3\\envs\\both_languages\\lib\\site-packages (from matplotlib>=3.0->arviz) (1.3.1)\n",
      "Requirement already satisfied: cycler>=0.10 in c:\\users\\jyoti dalal\\anaconda3\\envs\\both_languages\\lib\\site-packages (from matplotlib>=3.0->arviz) (0.10.0)\n",
      "Requirement already satisfied: pyparsing!=2.0.4,!=2.1.2,!=2.1.6,>=2.0.3 in c:\\users\\jyoti dalal\\anaconda3\\envs\\both_languages\\lib\\site-packages (from matplotlib>=3.0->arviz) (2.4.7)\n",
      "Requirement already satisfied: pillow>=6.2.0 in c:\\users\\jyoti dalal\\anaconda3\\envs\\both_languages\\lib\\site-packages (from matplotlib>=3.0->arviz) (8.2.0)\n",
      "Requirement already satisfied: python-dateutil>=2.1 in c:\\users\\jyoti dalal\\anaconda3\\envs\\both_languages\\lib\\site-packages (from matplotlib>=3.0->arviz) (2.8.1)\n",
      "Requirement already satisfied: six in c:\\users\\jyoti dalal\\anaconda3\\envs\\both_languages\\lib\\site-packages (from cycler>=0.10->matplotlib>=3.0->arviz) (1.15.0)\n",
      "Requirement already satisfied: pytz>=2017.3 in c:\\users\\jyoti dalal\\anaconda3\\envs\\both_languages\\lib\\site-packages (from pandas>=0.23->arviz) (2021.1)\n",
      "Requirement already satisfied: cftime in c:\\users\\jyoti dalal\\anaconda3\\envs\\both_languages\\lib\\site-packages (from netcdf4->arviz) (1.4.1)\n",
      "Requirement already satisfied: pymc3 in c:\\users\\jyoti dalal\\anaconda3\\envs\\both_languages\\lib\\site-packages (3.8)\n",
      "Requirement already satisfied: numpy>=1.13.0 in c:\\users\\jyoti dalal\\anaconda3\\envs\\both_languages\\lib\\site-packages (from pymc3) (1.19.2)\n",
      "Requirement already satisfied: arviz>=0.4.1 in c:\\users\\jyoti dalal\\anaconda3\\envs\\both_languages\\lib\\site-packages (from pymc3) (0.11.2)\n",
      "Requirement already satisfied: tqdm>=4.8.4 in c:\\users\\jyoti dalal\\anaconda3\\envs\\both_languages\\lib\\site-packages (from pymc3) (4.59.0)\n",
      "Requirement already satisfied: pandas>=0.18.0 in c:\\users\\jyoti dalal\\anaconda3\\envs\\both_languages\\lib\\site-packages (from pymc3) (1.2.4)\n",
      "Requirement already satisfied: h5py>=2.7.0 in c:\\users\\jyoti dalal\\anaconda3\\envs\\both_languages\\lib\\site-packages (from pymc3) (2.10.0)\n",
      "Requirement already satisfied: theano>=1.0.4 in c:\\users\\jyoti dalal\\anaconda3\\envs\\both_languages\\lib\\site-packages (from pymc3) (1.0.4)\n",
      "Requirement already satisfied: scipy>=0.18.1 in c:\\users\\jyoti dalal\\anaconda3\\envs\\both_languages\\lib\\site-packages (from pymc3) (1.6.2)\n",
      "Requirement already satisfied: patsy>=0.4.0 in c:\\users\\jyoti dalal\\anaconda3\\envs\\both_languages\\lib\\site-packages (from pymc3) (0.5.1)\n",
      "Requirement already satisfied: packaging in c:\\users\\jyoti dalal\\anaconda3\\envs\\both_languages\\lib\\site-packages (from arviz>=0.4.1->pymc3) (20.9)\n",
      "Requirement already satisfied: xarray>=0.16.1 in c:\\users\\jyoti dalal\\anaconda3\\envs\\both_languages\\lib\\site-packages (from arviz>=0.4.1->pymc3) (0.17.0)\n",
      "Requirement already satisfied: matplotlib>=3.0 in c:\\users\\jyoti dalal\\anaconda3\\envs\\both_languages\\lib\\site-packages (from arviz>=0.4.1->pymc3) (3.3.4)\n",
      "Requirement already satisfied: netcdf4 in c:\\users\\jyoti dalal\\anaconda3\\envs\\both_languages\\lib\\site-packages (from arviz>=0.4.1->pymc3) (1.4.2)\n",
      "Requirement already satisfied: typing-extensions<4,>=3.7.4.3 in c:\\users\\jyoti dalal\\anaconda3\\envs\\both_languages\\lib\\site-packages (from arviz>=0.4.1->pymc3) (3.7.4.3)\n",
      "Requirement already satisfied: setuptools>=38.4 in c:\\users\\jyoti dalal\\anaconda3\\envs\\both_languages\\lib\\site-packages (from arviz>=0.4.1->pymc3) (52.0.0.post20210125)\n",
      "Requirement already satisfied: six in c:\\users\\jyoti dalal\\anaconda3\\envs\\both_languages\\lib\\site-packages (from h5py>=2.7.0->pymc3) (1.15.0)\n",
      "Requirement already satisfied: kiwisolver>=1.0.1 in c:\\users\\jyoti dalal\\anaconda3\\envs\\both_languages\\lib\\site-packages (from matplotlib>=3.0->arviz>=0.4.1->pymc3) (1.3.1)\n",
      "Requirement already satisfied: pyparsing!=2.0.4,!=2.1.2,!=2.1.6,>=2.0.3 in c:\\users\\jyoti dalal\\anaconda3\\envs\\both_languages\\lib\\site-packages (from matplotlib>=3.0->arviz>=0.4.1->pymc3) (2.4.7)\n",
      "Requirement already satisfied: python-dateutil>=2.1 in c:\\users\\jyoti dalal\\anaconda3\\envs\\both_languages\\lib\\site-packages (from matplotlib>=3.0->arviz>=0.4.1->pymc3) (2.8.1)\n",
      "Requirement already satisfied: cycler>=0.10 in c:\\users\\jyoti dalal\\anaconda3\\envs\\both_languages\\lib\\site-packages (from matplotlib>=3.0->arviz>=0.4.1->pymc3) (0.10.0)\n",
      "Requirement already satisfied: pillow>=6.2.0 in c:\\users\\jyoti dalal\\anaconda3\\envs\\both_languages\\lib\\site-packages (from matplotlib>=3.0->arviz>=0.4.1->pymc3) (8.2.0)\n",
      "Requirement already satisfied: pytz>=2017.3 in c:\\users\\jyoti dalal\\anaconda3\\envs\\both_languages\\lib\\site-packages (from pandas>=0.18.0->pymc3) (2021.1)\n",
      "Requirement already satisfied: cftime in c:\\users\\jyoti dalal\\anaconda3\\envs\\both_languages\\lib\\site-packages (from netcdf4->arviz>=0.4.1->pymc3) (1.4.1)\n"
     ]
    }
   ],
   "source": [
    "!pip install arviz\n",
    "!pip install pymc3"
   ]
  },
  {
   "cell_type": "code",
   "execution_count": 2,
   "metadata": {},
   "outputs": [
    {
     "name": "stderr",
     "output_type": "stream",
     "text": [
      "WARNING (theano.tensor.blas): Using NumPy C-API based implementation for BLAS functions.\n"
     ]
    },
    {
     "ename": "AttributeError",
     "evalue": "module 'arviz' has no attribute 'geweke'",
     "output_type": "error",
     "traceback": [
      "\u001b[1;31m---------------------------------------------------------------------------\u001b[0m",
      "\u001b[1;31mAttributeError\u001b[0m                            Traceback (most recent call last)",
      "\u001b[1;32m<ipython-input-2-831121424ea5>\u001b[0m in \u001b[0;36m<module>\u001b[1;34m\u001b[0m\n\u001b[0;32m      4\u001b[0m \u001b[1;32mimport\u001b[0m \u001b[0mnumpy\u001b[0m \u001b[1;32mas\u001b[0m \u001b[0mnp\u001b[0m\u001b[1;33m\u001b[0m\u001b[1;33m\u001b[0m\u001b[0m\n\u001b[0;32m      5\u001b[0m \u001b[1;32mimport\u001b[0m \u001b[0mpandas\u001b[0m \u001b[1;32mas\u001b[0m \u001b[0mpd\u001b[0m\u001b[1;33m\u001b[0m\u001b[1;33m\u001b[0m\u001b[0m\n\u001b[1;32m----> 6\u001b[1;33m \u001b[1;32mimport\u001b[0m \u001b[0mpymc3\u001b[0m \u001b[1;32mas\u001b[0m \u001b[0mpm\u001b[0m\u001b[1;33m\u001b[0m\u001b[1;33m\u001b[0m\u001b[0m\n\u001b[0m\u001b[0;32m      7\u001b[0m \u001b[0mget_ipython\u001b[0m\u001b[1;33m(\u001b[0m\u001b[1;33m)\u001b[0m\u001b[1;33m.\u001b[0m\u001b[0mrun_line_magic\u001b[0m\u001b[1;33m(\u001b[0m\u001b[1;34m'matplotlib'\u001b[0m\u001b[1;33m,\u001b[0m \u001b[1;34m'inline'\u001b[0m\u001b[1;33m)\u001b[0m\u001b[1;33m\u001b[0m\u001b[1;33m\u001b[0m\u001b[0m\n\u001b[0;32m      8\u001b[0m \u001b[1;33m\u001b[0m\u001b[0m\n",
      "\u001b[1;32m~\\Anaconda3\\envs\\Both_languages\\lib\\site-packages\\pymc3\\__init__.py\u001b[0m in \u001b[0;36m<module>\u001b[1;34m\u001b[0m\n\u001b[0;32m     11\u001b[0m \u001b[1;32mfrom\u001b[0m \u001b[1;33m.\u001b[0m\u001b[0mmodel_graph\u001b[0m \u001b[1;32mimport\u001b[0m \u001b[0mmodel_to_graphviz\u001b[0m\u001b[1;33m\u001b[0m\u001b[1;33m\u001b[0m\u001b[0m\n\u001b[0;32m     12\u001b[0m \u001b[1;32mfrom\u001b[0m \u001b[1;33m.\u001b[0m \u001b[1;32mimport\u001b[0m \u001b[0mode\u001b[0m\u001b[1;33m\u001b[0m\u001b[1;33m\u001b[0m\u001b[0m\n\u001b[1;32m---> 13\u001b[1;33m \u001b[1;32mfrom\u001b[0m \u001b[1;33m.\u001b[0m\u001b[0mstats\u001b[0m \u001b[1;32mimport\u001b[0m \u001b[1;33m*\u001b[0m\u001b[1;33m\u001b[0m\u001b[1;33m\u001b[0m\u001b[0m\n\u001b[0m\u001b[0;32m     14\u001b[0m \u001b[1;32mfrom\u001b[0m \u001b[1;33m.\u001b[0m\u001b[0msampling\u001b[0m \u001b[1;32mimport\u001b[0m \u001b[1;33m*\u001b[0m\u001b[1;33m\u001b[0m\u001b[1;33m\u001b[0m\u001b[0m\n\u001b[0;32m     15\u001b[0m \u001b[1;32mfrom\u001b[0m \u001b[1;33m.\u001b[0m\u001b[0mstep_methods\u001b[0m \u001b[1;32mimport\u001b[0m \u001b[1;33m*\u001b[0m\u001b[1;33m\u001b[0m\u001b[1;33m\u001b[0m\u001b[0m\n",
      "\u001b[1;32m~\\Anaconda3\\envs\\Both_languages\\lib\\site-packages\\pymc3\\stats\\__init__.py\u001b[0m in \u001b[0;36m<module>\u001b[1;34m\u001b[0m\n\u001b[0;32m     30\u001b[0m \u001b[0mcompare\u001b[0m \u001b[1;33m=\u001b[0m \u001b[0mmap_args\u001b[0m\u001b[1;33m(\u001b[0m\u001b[0maz\u001b[0m\u001b[1;33m.\u001b[0m\u001b[0mcompare\u001b[0m\u001b[1;33m)\u001b[0m\u001b[1;33m\u001b[0m\u001b[1;33m\u001b[0m\u001b[0m\n\u001b[0;32m     31\u001b[0m \u001b[0mess\u001b[0m \u001b[1;33m=\u001b[0m \u001b[0mmap_args\u001b[0m\u001b[1;33m(\u001b[0m\u001b[0maz\u001b[0m\u001b[1;33m.\u001b[0m\u001b[0mess\u001b[0m\u001b[1;33m)\u001b[0m\u001b[1;33m\u001b[0m\u001b[1;33m\u001b[0m\u001b[0m\n\u001b[1;32m---> 32\u001b[1;33m \u001b[0mgeweke\u001b[0m \u001b[1;33m=\u001b[0m \u001b[0mmap_args\u001b[0m\u001b[1;33m(\u001b[0m\u001b[0maz\u001b[0m\u001b[1;33m.\u001b[0m\u001b[0mgeweke\u001b[0m\u001b[1;33m)\u001b[0m\u001b[1;33m\u001b[0m\u001b[1;33m\u001b[0m\u001b[0m\n\u001b[0m\u001b[0;32m     33\u001b[0m \u001b[0mhpd\u001b[0m \u001b[1;33m=\u001b[0m \u001b[0mmap_args\u001b[0m\u001b[1;33m(\u001b[0m\u001b[0maz\u001b[0m\u001b[1;33m.\u001b[0m\u001b[0mhpd\u001b[0m\u001b[1;33m)\u001b[0m\u001b[1;33m\u001b[0m\u001b[1;33m\u001b[0m\u001b[0m\n\u001b[0;32m     34\u001b[0m \u001b[0mloo\u001b[0m \u001b[1;33m=\u001b[0m \u001b[0mmap_args\u001b[0m\u001b[1;33m(\u001b[0m\u001b[0maz\u001b[0m\u001b[1;33m.\u001b[0m\u001b[0mloo\u001b[0m\u001b[1;33m)\u001b[0m\u001b[1;33m\u001b[0m\u001b[1;33m\u001b[0m\u001b[0m\n",
      "\u001b[1;31mAttributeError\u001b[0m: module 'arviz' has no attribute 'geweke'"
     ]
    }
   ],
   "source": [
    "import arviz as az\n",
    "import matplotlib\n",
    "import matplotlib.pyplot as plt\n",
    "import numpy as np\n",
    "import pandas as pd\n",
    "import pymc3 as pm\n",
    "%matplotlib inline\n",
    "\n",
    "%config InlineBackend.figure_format = 'retina'\n",
    "az.style.use(\"arviz-darkgrid\")"
   ]
  },
  {
   "cell_type": "code",
   "execution_count": null,
   "metadata": {},
   "outputs": [],
   "source": [
    "RANDOM_SEED = 3333 # Initialize random number generator\n",
    "np.random.seed(RANDOM_SEED)"
   ]
  },
  {
   "cell_type": "code",
   "execution_count": null,
   "metadata": {},
   "outputs": [],
   "source": [
    "data = pd.read_csv('./data_gender.csv')\n",
    "#data = data.drop(labels=[3, 4, 16], axis=0)\n",
    "#data = data.set_index('Country')\n",
    "data"
   ]
  },
  {
   "cell_type": "markdown",
   "metadata": {},
   "source": [
    "1. 60+ age-group"
   ]
  },
  {
   "cell_type": "code",
   "execution_count": null,
   "metadata": {},
   "outputs": [],
   "source": [
    "dm = data['deaths_m3']  # 60+ age-group\n",
    "nm = data['cases_m3']\n",
    "df = data['deaths_f3']\n",
    "nf = data['cases_f3']\n",
    "\n",
    "inference_model = pm.Model()\n",
    "\n",
    "with inference_model:\n",
    "  cfr_f = pm.Beta('CFR in Females', alpha=0.3333, beta=0.3333, shape=len(data)) \n",
    "  cfr_m = pm.Beta('CFR in Males', alpha=0.3333, beta=0.3333, shape=len(data))\n",
    "  y_f = pm.Binomial('y_f', p=cfr_f, observed=df, n=nf)\n",
    "  y_m = pm.Binomial('y_m', p=cfr_m, observed=dm, n=nm)\n",
    "  dif = pm.Deterministic('CFR_diff', cfr_f-cfr_m)\n",
    "  trace = pm.sample(5000, tune=1000, cores = 4)"
   ]
  },
  {
   "cell_type": "code",
   "execution_count": null,
   "metadata": {},
   "outputs": [],
   "source": [
    "ax = az.plot_posterior(trace, var_names=['CFR_diff'], textsize = 30, hdi_prob=0.95, ref_val = 0.0, figsize=(40,40), kind='kde')"
   ]
  },
  {
   "cell_type": "code",
   "execution_count": null,
   "metadata": {},
   "outputs": [],
   "source": [
    "tab = az.summary(trace, hdi_prob=0.95)\n",
    "tab"
   ]
  },
  {
   "cell_type": "code",
   "execution_count": null,
   "metadata": {},
   "outputs": [],
   "source": [
    "tab.to_csv('./results_june15/June15_age_60.csv')"
   ]
  },
  {
   "cell_type": "code",
   "execution_count": null,
   "metadata": {},
   "outputs": [],
   "source": [
    "fig = ax.ravel()[0].figure\n",
    "fig.savefig('./results_june15/June15_Pub_age_60.png')"
   ]
  },
  {
   "cell_type": "markdown",
   "metadata": {},
   "source": [
    "2. 40-59 age-group"
   ]
  },
  {
   "cell_type": "code",
   "execution_count": null,
   "metadata": {},
   "outputs": [],
   "source": [
    "dm = data['deaths_m2']    # '40-59' age-group  \n",
    "nm = data['cases_m2']\n",
    "df = data['deaths_f2']\n",
    "nf = data['cases_f2']\n",
    "\n",
    "inference_model = pm.Model()\n",
    "\n",
    "with inference_model:\n",
    "    cfr_f = pm.Beta('CFR in Females', alpha=0.3333, beta=0.3333, shape=len(data)) \n",
    "    cfr_m = pm.Beta('CFR in Males', alpha=0.3333, beta=0.3333, shape=len(data))\n",
    "    \n",
    "    y_f = pm.Binomial('y_f', p=cfr_f, observed=df, n=nf)\n",
    "    y_m = pm.Binomial('y_m', p=cfr_m, observed=dm, n=nm)\n",
    "    \n",
    "    dif = pm.Deterministic('CFR_diff', cfr_f-cfr_m)\n",
    "\n",
    "    trace = pm.sample(5000, tune=1000, cores = 4)"
   ]
  },
  {
   "cell_type": "code",
   "execution_count": null,
   "metadata": {},
   "outputs": [],
   "source": [
    "ax = az.plot_posterior(trace, var_names=['CFR_diff'], textsize = 30, hdi_prob=0.95, ref_val = 0.0, figsize=(40,40), kind='kde')"
   ]
  },
  {
   "cell_type": "code",
   "execution_count": null,
   "metadata": {},
   "outputs": [],
   "source": [
    "tab = az.summary(trace,  hdi_prob=0.95)\n",
    "tab"
   ]
  },
  {
   "cell_type": "code",
   "execution_count": null,
   "metadata": {},
   "outputs": [],
   "source": [
    "tab.to_csv('./results_june15/June15_age_40_59.csv')"
   ]
  },
  {
   "cell_type": "code",
   "execution_count": null,
   "metadata": {},
   "outputs": [],
   "source": [
    "fig = ax.ravel()[0].figure\n",
    "fig.savefig('./results_june15/June15_Pub_age_40_59.png')"
   ]
  },
  {
   "cell_type": "markdown",
   "metadata": {},
   "source": [
    "3. 0-39 age group"
   ]
  },
  {
   "cell_type": "code",
   "execution_count": null,
   "metadata": {},
   "outputs": [],
   "source": [
    "dm = data['deaths_m1']  # '0-39' age-group\n",
    "nm = data['cases_m1']\n",
    "df = data['deaths_f1']\n",
    "nf = data['cases_f1']\n",
    "\n",
    "inference_model = pm.Model()\n",
    "\n",
    "with inference_model:\n",
    "    cfr_f = pm.Beta('CFR in Females', alpha=0.3333, beta=0.3333, shape=len(data)) \n",
    "    cfr_m = pm.Beta('CFR in Males', alpha=0.3333, beta=0.3333, shape=len(data))\n",
    "    \n",
    "    y_f = pm.Binomial('y_f', p=cfr_f, observed=df, n=nf)\n",
    "    y_m = pm.Binomial('y_m', p=cfr_m, observed=dm, n=nm)\n",
    "    \n",
    "    dif = pm.Deterministic('CFR_diff', cfr_f-cfr_m)\n",
    "\n",
    "    trace = pm.sample(5000, tune=1000, cores = 4)"
   ]
  },
  {
   "cell_type": "code",
   "execution_count": null,
   "metadata": {},
   "outputs": [],
   "source": [
    "ax = az.plot_posterior(trace, var_names=['CFR_diff'], textsize = 30, hdi_prob=0.95, ref_val = 0.0, figsize=(40,40), kind='kde')"
   ]
  },
  {
   "cell_type": "code",
   "execution_count": null,
   "metadata": {},
   "outputs": [],
   "source": [
    "tab = az.summary(trace,  hdi_prob=0.95)\n",
    "tab"
   ]
  },
  {
   "cell_type": "code",
   "execution_count": null,
   "metadata": {},
   "outputs": [],
   "source": [
    "tab.to_csv('./results_june15/June15_age_0_39.csv')"
   ]
  },
  {
   "cell_type": "code",
   "execution_count": null,
   "metadata": {},
   "outputs": [],
   "source": [
    "fig = ax.ravel()[0].figure\n",
    "fig.savefig('./results_june15/June15_Pub_age_0_39.png')"
   ]
  },
  {
   "cell_type": "markdown",
   "metadata": {},
   "source": [
    "4. All age-groups combined"
   ]
  },
  {
   "cell_type": "code",
   "execution_count": null,
   "metadata": {},
   "outputs": [],
   "source": [
    "dm = data['deaths_m_t']  # overall\n",
    "nm = data['cases_m_t']\n",
    "df = data['deaths_f_t']\n",
    "nf = data['cases_f_t']\n",
    "\n",
    "inference_model = pm.Model()\n",
    "\n",
    "with inference_model:\n",
    "    cfr_f = pm.Beta('CFR in Females', alpha=0.3333, beta=0.3333, shape=len(data)) \n",
    "    cfr_m = pm.Beta('CFR in Males', alpha=0.3333, beta=0.3333, shape=len(data))\n",
    "    \n",
    "    y_f = pm.Binomial('y_f', p=cfr_f, observed=df, n=nf)\n",
    "    y_m = pm.Binomial('y_m', p=cfr_m, observed=dm, n=nm)\n",
    "    \n",
    "    dif = pm.Deterministic('CFR_diff', cfr_f-cfr_m)\n",
    "\n",
    "    trace = pm.sample(5000, tune=1000, cores = 4)"
   ]
  },
  {
   "cell_type": "code",
   "execution_count": null,
   "metadata": {},
   "outputs": [],
   "source": [
    "ax = az.plot_posterior(trace, var_names=['CFR_diff'], textsize = 30, hdi_prob=0.95, ref_val = 0.0, figsize=(40,40), kind='kde')"
   ]
  },
  {
   "cell_type": "code",
   "execution_count": null,
   "metadata": {},
   "outputs": [],
   "source": [
    "tab = az.summary(trace,  hdi_prob=0.95)\n",
    "tab"
   ]
  },
  {
   "cell_type": "code",
   "execution_count": null,
   "metadata": {},
   "outputs": [],
   "source": [
    "tab.to_csv('./results_june15/June15_all_age.csv')"
   ]
  },
  {
   "cell_type": "code",
   "execution_count": null,
   "metadata": {},
   "outputs": [],
   "source": [
    "fig = ax.ravel()[0].figure\n",
    "fig.savefig('./results_june15/June15_Pub_all_age.png')"
   ]
  },
  {
   "cell_type": "markdown",
   "metadata": {},
   "source": [
    "5. Combining the data from all the countries\n",
    "\n",
    "- 60+ age group"
   ]
  },
  {
   "cell_type": "code",
   "execution_count": null,
   "metadata": {},
   "outputs": [],
   "source": [
    "dm = data['deaths_m3'].sum()  # 60+ age-group\n",
    "nm = data['cases_m3'].sum()\n",
    "df = data['deaths_f3'].sum()\n",
    "nf = data['cases_f3'].sum()\n",
    "\n",
    "inference_model = pm.Model()\n",
    "\n",
    "with inference_model:\n",
    "  cfr_f = pm.Beta('CFR in Females', alpha=0.3333, beta=0.3333) \n",
    "  cfr_m = pm.Beta('CFR in Males', alpha=0.3333, beta=0.3333)\n",
    "  y_f = pm.Binomial('y_f', p=cfr_f, observed=df, n=nf)\n",
    "  y_m = pm.Binomial('y_m', p=cfr_m, observed=dm, n=nm)\n",
    "  dif = pm.Deterministic('CFR_diff', cfr_f-cfr_m)\n",
    "  trace = pm.sample(5000, tune=1000, cores = 4)"
   ]
  },
  {
   "cell_type": "code",
   "execution_count": null,
   "metadata": {},
   "outputs": [],
   "source": [
    "ax = az.plot_posterior(trace, textsize = 12, hdi_prob=0.95, ref_val = 0.0, figsize=(10,3), kind='kde')"
   ]
  },
  {
   "cell_type": "code",
   "execution_count": null,
   "metadata": {},
   "outputs": [],
   "source": [
    "tab = az.summary(trace,  hdi_prob=0.95)\n",
    "tab"
   ]
  },
  {
   "cell_type": "code",
   "execution_count": null,
   "metadata": {},
   "outputs": [],
   "source": [
    "tab.to_csv('./results_june15/June15_20_countries_60+.csv')"
   ]
  },
  {
   "cell_type": "code",
   "execution_count": null,
   "metadata": {},
   "outputs": [],
   "source": [
    "fig = ax.ravel()[0].figure\n",
    "fig.savefig('./results_june15/June15_20_countries_60+.png')"
   ]
  },
  {
   "cell_type": "markdown",
   "metadata": {},
   "source": [
    "- 40-59 age-group"
   ]
  },
  {
   "cell_type": "code",
   "execution_count": null,
   "metadata": {},
   "outputs": [],
   "source": [
    "dm = data['deaths_m2'].sum()  # 40-59 age-group\n",
    "nm = data['cases_m2'].sum()\n",
    "df = data['deaths_f2'].sum()\n",
    "nf = data['cases_f2'].sum()\n",
    "\n",
    "inference_model = pm.Model()\n",
    "\n",
    "with inference_model:\n",
    "  cfr_f = pm.Beta('CFR in Females', alpha=0.3333, beta=0.3333) \n",
    "  cfr_m = pm.Beta('CFR in Males', alpha=0.3333, beta=0.3333)\n",
    "  y_f = pm.Binomial('y_f', p=cfr_f, observed=df, n=nf)\n",
    "  y_m = pm.Binomial('y_m', p=cfr_m, observed=dm, n=nm)\n",
    "  dif = pm.Deterministic('CFR_diff', cfr_f-cfr_m)\n",
    "  trace = pm.sample(5000, tune=1000, cores = 4)"
   ]
  },
  {
   "cell_type": "code",
   "execution_count": null,
   "metadata": {},
   "outputs": [],
   "source": [
    "ax = az.plot_posterior(trace, textsize = 12, hdi_prob=0.95, ref_val = 0.0, figsize=(10,3), kind='kde')"
   ]
  },
  {
   "cell_type": "code",
   "execution_count": null,
   "metadata": {},
   "outputs": [],
   "source": [
    "tab = az.summary(trace,  hdi_prob=0.95)\n",
    "tab"
   ]
  },
  {
   "cell_type": "code",
   "execution_count": null,
   "metadata": {},
   "outputs": [],
   "source": [
    "tab.to_csv('./results_june15/June15_20_countries_40_59.csv')\n",
    "fig = ax.ravel()[0].figure\n",
    "fig.savefig('./results_june15/June15_20_countries_40_59.png')"
   ]
  },
  {
   "cell_type": "markdown",
   "metadata": {},
   "source": [
    "- 0-39 "
   ]
  },
  {
   "cell_type": "code",
   "execution_count": null,
   "metadata": {},
   "outputs": [],
   "source": [
    "dm = data['deaths_m1'].sum()  # 0-39 age-group\n",
    "nm = data['cases_m1'].sum()\n",
    "df = data['deaths_f1'].sum()\n",
    "nf = data['cases_f1'].sum()\n",
    "\n",
    "inference_model = pm.Model()\n",
    "\n",
    "with inference_model:\n",
    "  cfr_f = pm.Beta('CFR in Females', alpha=0.3333, beta=0.3333) \n",
    "  cfr_m = pm.Beta('CFR in Males', alpha=0.3333, beta=0.3333)\n",
    "  y_f = pm.Binomial('y_f', p=cfr_f, observed=df, n=nf)\n",
    "  y_m = pm.Binomial('y_m', p=cfr_m, observed=dm, n=nm)\n",
    "  dif = pm.Deterministic('CFR_diff', cfr_f-cfr_m)\n",
    "  trace = pm.sample(5000, tune=1000, cores = 4)"
   ]
  },
  {
   "cell_type": "code",
   "execution_count": null,
   "metadata": {},
   "outputs": [],
   "source": [
    "ax = az.plot_posterior(trace, textsize = 12, hdi_prob=0.95, ref_val = 0.0, figsize=(10,3), kind='kde')"
   ]
  },
  {
   "cell_type": "code",
   "execution_count": null,
   "metadata": {},
   "outputs": [],
   "source": [
    "tab = az.summary(trace,  hdi_prob=0.95)\n",
    "tab"
   ]
  },
  {
   "cell_type": "code",
   "execution_count": null,
   "metadata": {},
   "outputs": [],
   "source": [
    "tab.to_csv('./results_june15/June15_20_countries_0_39.csv')\n",
    "fig = ax.ravel()[0].figure\n",
    "fig.savefig('./results_june15/June15_20_countries_0_39.png')"
   ]
  },
  {
   "cell_type": "markdown",
   "metadata": {},
   "source": [
    "- all age-groups combined"
   ]
  },
  {
   "cell_type": "code",
   "execution_count": null,
   "metadata": {},
   "outputs": [],
   "source": [
    "dm = data['deaths_m_t'].sum()  # overall\n",
    "nm = data['cases_m_t'].sum()\n",
    "df = data['deaths_f_t'].sum()\n",
    "nf = data['cases_f_t'].sum()\n",
    "\n",
    "inference_model = pm.Model()\n",
    "\n",
    "with inference_model:\n",
    "    cfr_f = pm.Beta('CFR in Females', alpha=0.3333, beta=0.3333) \n",
    "    cfr_m = pm.Beta('CFR in Males', alpha=0.3333, beta=0.3333)\n",
    "    \n",
    "    y_f = pm.Binomial('y_f', p=cfr_f, observed=df, n=nf)\n",
    "    y_m = pm.Binomial('y_m', p=cfr_m, observed=dm, n=nm)\n",
    "    \n",
    "    dif = pm.Deterministic('CFR_diff', cfr_f-cfr_m)\n",
    "\n",
    "    trace = pm.sample(5000, tune=1000, cores = 4)"
   ]
  },
  {
   "cell_type": "code",
   "execution_count": null,
   "metadata": {},
   "outputs": [],
   "source": [
    "ax = az.plot_posterior(trace, textsize = 12, hdi_prob=0.95, ref_val = 0.0, figsize=(10,3), kind='kde')"
   ]
  },
  {
   "cell_type": "code",
   "execution_count": null,
   "metadata": {},
   "outputs": [],
   "source": [
    "tab = az.summary(trace,  hdi_prob=0.95)\n",
    "tab"
   ]
  },
  {
   "cell_type": "code",
   "execution_count": null,
   "metadata": {},
   "outputs": [],
   "source": [
    "tab.to_csv('./results_june15/June15_20_countries_all.csv')\n",
    "fig = ax.ravel()[0].figure\n",
    "fig.savefig('./results_june15/June15_20_countries_all.png')"
   ]
  },
  {
   "cell_type": "code",
   "execution_count": null,
   "metadata": {},
   "outputs": [],
   "source": []
  }
 ],
 "metadata": {
  "kernelspec": {
   "display_name": "Python 3",
   "language": "python",
   "name": "python3"
  },
  "language_info": {
   "codemirror_mode": {
    "name": "ipython",
    "version": 3
   },
   "file_extension": ".py",
   "mimetype": "text/x-python",
   "name": "python",
   "nbconvert_exporter": "python",
   "pygments_lexer": "ipython3",
   "version": "3.7.7"
  }
 },
 "nbformat": 4,
 "nbformat_minor": 4
}
